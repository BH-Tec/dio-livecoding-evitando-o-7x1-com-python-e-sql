{
  "cells": [
    {
      "cell_type": "markdown",
      "metadata": {
        "id": "GJm-vq19ibVn"
      },
      "source": [
        "# Evitando o 7x1 com Python e SQL\n",
        "\n",
        "Aprenda na prática a prever o campeão da Copa do Mundo usando ciência de dados, mesmo que você não entenda nada sobre o assunto. Todo código estará disponível neste link do GitHub: \n",
        "\n",
        "**[github.com/digitalinnovationone/live-coding-evitando-o-7x1-com-python-e-sql](https://github.com/digitalinnovationone/live-coding-evitando-o-7x1-com-python-e-sql)**\n",
        "\n",
        "Acesse nossa [*landing page*](https://lp.dio.me/evitando-7x1-com-python-e-sql/) para saber todos os detalhes do evento."
      ]
    },
    {
      "cell_type": "markdown",
      "metadata": {
        "id": "i1-xxLLdEgBE"
      },
      "source": [
        "## 1. Estrutura com os [Grupos e Seleções](https://global.discourse-cdn.com/nubank/original/4X/d/d/b/ddb82274a8785b60d1a19df8aeee768e87091292.jpeg), além de seus respectivos scores ([Ranking FIFA](https://www.ogol.com.br/ranking_fifa.php))"
      ]
    },
    {
      "cell_type": "code",
      "execution_count": 1,
      "metadata": {
        "colab": {
          "base_uri": "https://localhost:8080/",
          "height": 175
        },
        "id": "U1OsqB9oES9m",
        "outputId": "1e9feceb-04fd-4186-aaea-9fd169ee618c"
      },
      "outputs": [
        {
          "data": {
            "text/html": [
              "<div>\n",
              "<style scoped>\n",
              "    .dataframe tbody tr th:only-of-type {\n",
              "        vertical-align: middle;\n",
              "    }\n",
              "\n",
              "    .dataframe tbody tr th {\n",
              "        vertical-align: top;\n",
              "    }\n",
              "\n",
              "    .dataframe thead th {\n",
              "        text-align: right;\n",
              "    }\n",
              "</style>\n",
              "<table border=\"1\" class=\"dataframe\">\n",
              "  <thead>\n",
              "    <tr style=\"text-align: right;\">\n",
              "      <th></th>\n",
              "      <th>A</th>\n",
              "      <th>B</th>\n",
              "      <th>C</th>\n",
              "      <th>D</th>\n",
              "      <th>E</th>\n",
              "      <th>F</th>\n",
              "      <th>G</th>\n",
              "      <th>H</th>\n",
              "    </tr>\n",
              "  </thead>\n",
              "  <tbody>\n",
              "    <tr>\n",
              "      <th>0</th>\n",
              "      <td>CAT|1442.0</td>\n",
              "      <td>EUA|1635.0</td>\n",
              "      <td>ARG|1770.7</td>\n",
              "      <td>AUS|1483.7</td>\n",
              "      <td>ALE|1659.0</td>\n",
              "      <td>BEL|1821.9</td>\n",
              "      <td>BRA|1837.6</td>\n",
              "      <td>COR|1526.0</td>\n",
              "    </tr>\n",
              "    <tr>\n",
              "      <th>1</th>\n",
              "      <td>EQU|1463.7</td>\n",
              "      <td>ING|1737.5</td>\n",
              "      <td>ARA|1435.7</td>\n",
              "      <td>DIN|1665.5</td>\n",
              "      <td>COS|1500.1</td>\n",
              "      <td>CAN|1473.8</td>\n",
              "      <td>CAM|1485.0</td>\n",
              "      <td>GAN|1393.5</td>\n",
              "    </tr>\n",
              "    <tr>\n",
              "      <th>2</th>\n",
              "      <td>HOL|1679.4</td>\n",
              "      <td>IRA|1558.6</td>\n",
              "      <td>MEX|1649.6</td>\n",
              "      <td>FRA|1764.9</td>\n",
              "      <td>ESP|1716.9</td>\n",
              "      <td>CRO|1632.2</td>\n",
              "      <td>SUI|1621.4</td>\n",
              "      <td>POR|1678.7</td>\n",
              "    </tr>\n",
              "    <tr>\n",
              "      <th>3</th>\n",
              "      <td>SEN|1584.6</td>\n",
              "      <td>GAL|1582.1</td>\n",
              "      <td>POL|1546.2</td>\n",
              "      <td>TUN|1507.9</td>\n",
              "      <td>JAP|1554.7</td>\n",
              "      <td>MAR|1558.4</td>\n",
              "      <td>SER|1549.5</td>\n",
              "      <td>URU|1641.0</td>\n",
              "    </tr>\n",
              "  </tbody>\n",
              "</table>\n",
              "</div>"
            ],
            "text/plain": [
              "            A           B           C           D           E           F  \\\n",
              "0  CAT|1442.0  EUA|1635.0  ARG|1770.7  AUS|1483.7  ALE|1659.0  BEL|1821.9   \n",
              "1  EQU|1463.7  ING|1737.5  ARA|1435.7  DIN|1665.5  COS|1500.1  CAN|1473.8   \n",
              "2  HOL|1679.4  IRA|1558.6  MEX|1649.6  FRA|1764.9  ESP|1716.9  CRO|1632.2   \n",
              "3  SEN|1584.6  GAL|1582.1  POL|1546.2  TUN|1507.9  JAP|1554.7  MAR|1558.4   \n",
              "\n",
              "            G           H  \n",
              "0  BRA|1837.6  COR|1526.0  \n",
              "1  CAM|1485.0  GAN|1393.5  \n",
              "2  SUI|1621.4  POR|1678.7  \n",
              "3  SER|1549.5  URU|1641.0  "
            ]
          },
          "execution_count": 1,
          "metadata": {},
          "output_type": "execute_result"
        }
      ],
      "source": [
        "import pandas as pd\n",
        "\n",
        "df = pd.read_csv('https://raw.githubusercontent.com/digitalinnovationone/live-coding-evitando-o-7x1-com-python-e-sql/main/data.csv')\n",
        "df.head()"
      ]
    },
    {
      "cell_type": "markdown",
      "metadata": {
        "id": "LT5NfOUNwXTa"
      },
      "source": [
        "##2. Classe que representa um time, com suas características e comportamentos:"
      ]
    },
    {
      "cell_type": "code",
      "execution_count": 2,
      "metadata": {
        "id": "jc2iDAOjwEZK"
      },
      "outputs": [],
      "source": [
        "import random\n",
        "\n",
        "class Team:\n",
        "  BEST_SCORE = 1837.6 # Brasil (BRA)\n",
        "\n",
        "  # TODO: Definir um construtor com os atributos adequados (tendo em vista o conteúdo de uma célula do CSV)\n",
        "  def __init__(self, cellData):\n",
        "    teamData = cellData.split('|')\n",
        "    self.name = teamData[0]\n",
        "    self.score = float(teamData[1])\n",
        "\n",
        "  def motivate(self):\n",
        "    \"\"\" \n",
        "    A pior seleção da copa (GAN, segundo a FIFA) têm 1393.5 de score, o qual equivale a 75% do melhor score (BRA).\n",
        "    Sendo assim, para que a aleatoriedade não seja tão determinante, podemos definir um intervalo inicial próximo de 75.\n",
        "    \n",
        "    Por exemplo, GAN poderia ter valores entre 70~75 (aproximadamente). Por outro lado, BRA teria 70~100 (maior chance de vitória).\n",
        "    1837.6 (BRA) ----- 100\n",
        "    1393.5 (GAN) -----  X\n",
        "    \"\"\"\n",
        "    self.lastMotivation = random.uniform(70, (self.score * 100) / Team.BEST_SCORE)\n",
        "    return self.lastMotivation"
      ]
    },
    {
      "cell_type": "markdown",
      "metadata": {
        "id": "0rJ55ARry6o9"
      },
      "source": [
        "##3. Simulando a Fase de Grupos:"
      ]
    },
    {
      "cell_type": "code",
      "execution_count": 3,
      "metadata": {
        "colab": {
          "base_uri": "https://localhost:8080/"
        },
        "id": "ZwHNqXF6aGxr",
        "outputId": "f11b7869-2daa-4fae-d332-d5920663ba5f"
      },
      "outputs": [
        {
          "name": "stdout",
          "output_type": "stream",
          "text": [
            "Grupo A: EQU (78.31) CAT (76.42) SEN (75.11) HOL (71.14) \n",
            "Grupo B: ING (93.38) IRA (83.40) GAL (75.72) EUA (70.63) \n",
            "Grupo C: MEX (88.02) ARG (82.64) POL (71.88) ARA (70.57) \n",
            "Grupo D: DIN (80.32) FRA (79.05) AUS (75.94) TUN (71.40) \n",
            "Grupo E: ALE (88.55) COS (75.57) JAP (72.17) ESP (70.91) \n",
            "Grupo F: BEL (86.12) CAN (78.98) MAR (74.47) CRO (72.82) \n",
            "Grupo G: BRA (84.17) SER (79.84) CAM (76.83) SUI (72.30) \n",
            "Grupo H: POR (90.72) URU (79.16) COR (78.43) GAN (70.07) \n"
          ]
        }
      ],
      "source": [
        "# Mapa em que a chave será a letra do grupo e o valor as seleções (que ordenaremos pelas \"melhores\").\n",
        "bestTeamsByGroup = {}\n",
        "# Percorre o dataframe (dados do CSV) para criar nossos objetos/seleções.\n",
        "for label, content in df.items():\n",
        "  # TODO: Instanciar as 4 seleções do grupo, com seus respectivos nomes e score.\n",
        "  team1 = Team(content[0])\n",
        "  team2 = Team(content[1])\n",
        "  team3 = Team(content[2])\n",
        "  team4 = Team(content[3])\n",
        "  # TODO: Simular os melhores do grupo com base na motivação de cada seleção. \n",
        "  #       Calculada a partir do seu ranking FIFA aliado a uma pitada de aleatoriedade.\n",
        "  bestTeamsByGroup[label] = sorted([ team1, team2, team3, team4 ], key=Team.motivate, reverse=True)\n",
        "\n",
        "# TODO: Imprimir os grupos, ordenados pelas melhores seleções de cada (apenas 2 se classificam)\n",
        "for grupo, motivatedTeams in bestTeamsByGroup.items():\n",
        "  print(f'Grupo {grupo}: ', end=\"\")\n",
        "  for team in motivatedTeams:\n",
        "    print(f'{team.name} ({team.lastMotivation:.2f}) ', end=\"\")\n",
        "  print()"
      ]
    },
    {
      "cell_type": "markdown",
      "metadata": {
        "id": "XdK4ZV0g2pw-"
      },
      "source": [
        "## 4. Simulando as Oitavas de Final (16 melhores seleções)\n"
      ]
    },
    {
      "cell_type": "code",
      "execution_count": 4,
      "metadata": {
        "colab": {
          "base_uri": "https://localhost:8080/"
        },
        "id": "wdyYgEkV2uhA",
        "outputId": "eea79a1a-947a-47a9-a3bf-19d9e1104cc5"
      },
      "outputs": [
        {
          "name": "stdout",
          "output_type": "stream",
          "text": [
            "EQU (70.52) x IRA (77.37)\n",
            "MEX (78.79) x FRA (77.99)\n",
            "ALE (75.15) x CAN (77.07)\n",
            "BRA (70.37) x URU (72.94)\n",
            "ING (88.66) x CAT (72.97)\n",
            "DIN (88.41) x ARG (87.27)\n",
            "BEL (95.75) x COS (71.90)\n",
            "POR (80.02) x SER (71.07)\n"
          ]
        }
      ],
      "source": [
        "# Criando vaiáveis para as 2 melhores seleções de cada grupo:\n",
        "team1A = bestTeamsByGroup['A'][0]\n",
        "team2A = bestTeamsByGroup['A'][1]\n",
        "team1B = bestTeamsByGroup['B'][0]\n",
        "team2B = bestTeamsByGroup['B'][1]\n",
        "team1C = bestTeamsByGroup['C'][0]\n",
        "team2C = bestTeamsByGroup['C'][1]\n",
        "team1D = bestTeamsByGroup['D'][0]\n",
        "team2D = bestTeamsByGroup['D'][1]\n",
        "team1E = bestTeamsByGroup['E'][0]\n",
        "team2E = bestTeamsByGroup['E'][1]\n",
        "team1F = bestTeamsByGroup['F'][0]\n",
        "team2F = bestTeamsByGroup['F'][1]\n",
        "team1G = bestTeamsByGroup['G'][0]\n",
        "team2G = bestTeamsByGroup['G'][1]\n",
        "team1H = bestTeamsByGroup['H'][0]\n",
        "team2H = bestTeamsByGroup['H'][1]\n",
        "\n",
        "# TODO: Simular os confrontos das Oitavas de Final (randomizando novamente suas respectivas motivações).\n",
        "#       Além disso, também definir os classificados para as quartas de final em novas vaiáveis:\n",
        "quarter1 = team1A if team1A.motivate() > team2B.motivate() else team2B\n",
        "quarter2 = team1C if team1C.motivate() > team2D.motivate() else team2D\n",
        "quarter3 = team1E if team1E.motivate() > team2F.motivate() else team2F\n",
        "quarter4 = team1G if team1G.motivate() > team2H.motivate() else team2H\n",
        "quarter5 = team1B if team1B.motivate() > team2A.motivate() else team2A\n",
        "quarter6 = team1D if team1D.motivate() > team2C.motivate() else team2C\n",
        "quarter7 = team1F if team1F.motivate() > team2E.motivate() else team2E\n",
        "quarter8 = team1H if team1H.motivate() > team2G.motivate() else team2G\n",
        "\n",
        "# TODO: Imprimir os \"resultados\" dos confrontos realizados nas Oitavas de Final:\n",
        "print(f'{team1A.name} ({team1A.lastMotivation:.2f}) x {team2B.name} ({team2B.lastMotivation:.2f})')\n",
        "print(f'{team1C.name} ({team1C.lastMotivation:.2f}) x {team2D.name} ({team2D.lastMotivation:.2f})')\n",
        "print(f'{team1E.name} ({team1E.lastMotivation:.2f}) x {team2F.name} ({team2F.lastMotivation:.2f})')\n",
        "print(f'{team1G.name} ({team1G.lastMotivation:.2f}) x {team2H.name} ({team2H.lastMotivation:.2f})')\n",
        "print(f'{team1B.name} ({team1B.lastMotivation:.2f}) x {team2A.name} ({team2A.lastMotivation:.2f})')\n",
        "print(f'{team1D.name} ({team1D.lastMotivation:.2f}) x {team2C.name} ({team2C.lastMotivation:.2f})')\n",
        "print(f'{team1F.name} ({team1F.lastMotivation:.2f}) x {team2E.name} ({team2E.lastMotivation:.2f})')\n",
        "print(f'{team1H.name} ({team1H.lastMotivation:.2f}) x {team2G.name} ({team2G.lastMotivation:.2f})')"
      ]
    },
    {
      "cell_type": "markdown",
      "metadata": {
        "id": "QoplyoqDGFQC"
      },
      "source": [
        "## 5. Simulando as Quartas de Final (8 melhores seleções)"
      ]
    },
    {
      "cell_type": "code",
      "execution_count": 5,
      "metadata": {
        "colab": {
          "base_uri": "https://localhost:8080/"
        },
        "id": "7PCQCm2BGFfV",
        "outputId": "6291bb1a-ceb9-4e3d-ed8e-813616152b27"
      },
      "outputs": [
        {
          "name": "stdout",
          "output_type": "stream",
          "text": [
            "IRA (78.40) x MEX (77.31)\n",
            "CAN (78.42) x URU (74.39)\n",
            "ING (89.95) x DIN (83.64)\n",
            "BEL (82.30) x POR (78.95)\n"
          ]
        }
      ],
      "source": [
        "# TODO: Simular os confrontos das Quartas de Final (randomizando novamente suas respectivas motivações).\n",
        "#       Além disso, também definir os classificados para as semifinais em novas vaiáveis:\n",
        "semi1 = quarter1 if quarter1.motivate() > quarter2.motivate() else quarter2\n",
        "semi2 = quarter3 if quarter3.motivate() > quarter4.motivate() else quarter4\n",
        "semi3 = quarter5 if quarter5.motivate() > quarter6.motivate() else quarter6\n",
        "semi4 = quarter7 if quarter7.motivate() > quarter8.motivate() else quarter8\n",
        "\n",
        "# TODO: Imprimir os \"resultados\" dos confrontos realizados nas Quartas de Final:\n",
        "print(f'{quarter1.name} ({quarter1.lastMotivation:.2f}) x {quarter2.name} ({quarter2.lastMotivation:.2f})')\n",
        "print(f'{quarter3.name} ({quarter3.lastMotivation:.2f}) x {quarter4.name} ({quarter4.lastMotivation:.2f})')\n",
        "print(f'{quarter5.name} ({quarter5.lastMotivation:.2f}) x {quarter6.name} ({quarter6.lastMotivation:.2f})')\n",
        "print(f'{quarter7.name} ({quarter7.lastMotivation:.2f}) x {quarter8.name} ({quarter8.lastMotivation:.2f})')"
      ]
    },
    {
      "cell_type": "markdown",
      "metadata": {
        "id": "15JaIEPIIxKO"
      },
      "source": [
        "## 6. Simulando as Semifinais (4 melhores seleções)"
      ]
    },
    {
      "cell_type": "code",
      "execution_count": 6,
      "metadata": {
        "colab": {
          "base_uri": "https://localhost:8080/"
        },
        "id": "4STt-WtWIxWF",
        "outputId": "836cd11a-ed71-47e7-cff2-fcafc1b03225"
      },
      "outputs": [
        {
          "name": "stdout",
          "output_type": "stream",
          "text": [
            "IRA (82.46) x CAN (72.24)\n",
            "ING (91.89) x BEL (76.06)\n"
          ]
        }
      ],
      "source": [
        "# TODO: Simular os confrontos das Semifinais (randomizando novamente suas respectivas motivações).\n",
        "#       Além disso, também definir os classificados para a final e disputa de 3º e 4º em novas vaiáveis:\n",
        "# final1 = semi1 if semi1.motivate() > semi2.motivate() else semi2\n",
        "# terceiro1 = semi1 if semi1.lastMotivation < semi2.lastMotivation else semi2\n",
        "\n",
        "final1 = None\n",
        "terceiro1 = None\n",
        "if semi1.motivate() > semi2.motivate():\n",
        "  final1 = semi1\n",
        "  terceiro1 = semi2\n",
        "else:\n",
        "  final1 = semi2\n",
        "  terceiro1 = semi1\n",
        "\n",
        "final2 = None\n",
        "terceiro2 = None\n",
        "if semi3.motivate() > semi4.motivate():\n",
        "  final2 = semi3\n",
        "  terceiro2 = semi4\n",
        "else:\n",
        "  final2 = semi4\n",
        "  terceiro2 = semi3\n",
        "\n",
        "# TODO: Imprimir os \"resultados\" dos confrontos realizados nas Semifinais:\n",
        "print(f'{semi1.name} ({semi1.lastMotivation:.2f}) x {semi2.name} ({semi2.lastMotivation:.2f})')\n",
        "print(f'{semi3.name} ({semi3.lastMotivation:.2f}) x {semi4.name} ({semi4.lastMotivation:.2f})')"
      ]
    },
    {
      "cell_type": "markdown",
      "metadata": {
        "id": "BUgLpU_DLWCX"
      },
      "source": [
        "## 7. Simulando a Final (2 melhores seleções)"
      ]
    },
    {
      "cell_type": "code",
      "execution_count": 7,
      "metadata": {
        "colab": {
          "base_uri": "https://localhost:8080/"
        },
        "id": "HbXxH9KbLWLq",
        "outputId": "eb258dbc-dcca-430e-fe4f-aa1b789c78b0"
      },
      "outputs": [
        {
          "name": "stdout",
          "output_type": "stream",
          "text": [
            "1º: ING (89.52)\n",
            "2º: IRA (76.38)\n",
            "3º: CAN (72.91)\n",
            "4º: BEL (70.34)\n"
          ]
        }
      ],
      "source": [
        "# TODO: Simular os confrontos das Finais (randomizando novamente suas respectivas motivações).\n",
        "#       Além disso, também definir os 4 primeiros colocamos da Copa do Mundo de 2022:\n",
        "winner = final1 if final1.motivate() > final2.motivate() else final2\n",
        "second = final1 if final1.lastMotivation < final2.lastMotivation else final2\n",
        "third = terceiro1 if terceiro1.motivate() > terceiro2.motivate() else terceiro2\n",
        "fourth = terceiro1 if terceiro1.lastMotivation < terceiro2.lastMotivation else terceiro2\n",
        "\n",
        "# TODO: Imprimir os \"resultados\" dos confrontos realizados nas Finais:\n",
        "print(f'1º: {winner.name} ({winner.lastMotivation:.2f})')\n",
        "print(f'2º: {second.name} ({second.lastMotivation:.2f})')\n",
        "print(f'3º: {third.name} ({third.lastMotivation:.2f})')\n",
        "print(f'4º: {fourth.name} ({fourth.lastMotivation:.2f})')"
      ]
    }
  ],
  "metadata": {
    "colab": {
      "collapsed_sections": [],
      "provenance": []
    },
    "kernelspec": {
      "display_name": "Python 3.9.12 ('base')",
      "language": "python",
      "name": "python3"
    },
    "language_info": {
      "codemirror_mode": {
        "name": "ipython",
        "version": 3
      },
      "file_extension": ".py",
      "mimetype": "text/x-python",
      "name": "python",
      "nbconvert_exporter": "python",
      "pygments_lexer": "ipython3",
      "version": "3.9.12"
    },
    "vscode": {
      "interpreter": {
        "hash": "9febd13ef0c7e7a723ae581e239a544f36b8ac9e5c9c424724674a8e3ebede23"
      }
    }
  },
  "nbformat": 4,
  "nbformat_minor": 0
}
